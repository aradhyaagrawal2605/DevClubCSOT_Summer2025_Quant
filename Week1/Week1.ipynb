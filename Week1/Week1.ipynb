{
 "cells": [
  {
   "cell_type": "markdown",
   "id": "397d7a2f",
   "metadata": {},
   "source": [
    "# WEEK 1\n",
    "## STEP 1\n",
    "I downloaded the dataset from kaggle using *download_dataset.py* file and chose 5 High CAP companies - **AAPL**, **AMZN**,**GOOGL**,**MSFT** and **TSLA**. I added the files into a directory named `stocks`.\n",
    "Imported `pandas` library to make multiindexed csv out of the `.us.txt` files.\n",
    "Imported `glob` library to locate and read all the files with `.us.txt` suffix."
   ]
  },
  {
   "cell_type": "code",
   "execution_count": 285,
   "id": "aafd4585",
   "metadata": {},
   "outputs": [],
   "source": [
    "import pandas as pd\n",
    "import glob"
   ]
  },
  {
   "cell_type": "markdown",
   "id": "7a1c7d99",
   "metadata": {},
   "source": [
    "Sorted the companies alphabetically to maintain a order."
   ]
  },
  {
   "cell_type": "code",
   "execution_count": 286,
   "id": "39247eb2",
   "metadata": {},
   "outputs": [],
   "source": [
    "company_files = sorted(glob.glob('stocks/*.us.txt'))\n"
   ]
  },
  {
   "cell_type": "code",
   "execution_count": 287,
   "id": "ca70551f",
   "metadata": {},
   "outputs": [],
   "source": [
    "company_df_list=[]\n",
    "company_name_list=[]"
   ]
  },
  {
   "cell_type": "markdown",
   "id": "71c36adc",
   "metadata": {},
   "source": [
    "### Inside a `for` loop\n",
    "* From the relative file path, extracted out company name using indexing and capitalized it and stored it in a variable name called `ticker`.\n",
    "* Made a dataframe for each individual comapny.\n",
    "* Converted the `'Date'` column of string type into the pandas datetime object using `parse_dates` parameter. \n",
    "* Added the new column `'Ticker'` and assigned it `ticker` for all rows of each company.\n",
    "* Appended each dataframe named `company` to `company_df_list`."
   ]
  },
  {
   "cell_type": "code",
   "execution_count": 288,
   "id": "dad215cc",
   "metadata": {},
   "outputs": [],
   "source": [
    "for file in company_files:\n",
    "    ticker=file.split('.')[0][7:].upper()\n",
    "    company_name_list.append(ticker)\n",
    "    company=pd.read_csv(file, parse_dates=['Date'])\n",
    "    company['Ticker']=ticker\n",
    "    company_df_list.append(company)"
   ]
  },
  {
   "cell_type": "markdown",
   "id": "5442572b",
   "metadata": {},
   "source": [
    "Used `concat` function to convert the list to dataframe."
   ]
  },
  {
   "cell_type": "code",
   "execution_count": 289,
   "id": "1ff1fc5b",
   "metadata": {},
   "outputs": [],
   "source": [
    "df=pd.concat(company_df_list)"
   ]
  },
  {
   "cell_type": "markdown",
   "id": "eb2f428e",
   "metadata": {},
   "source": [
    "Multi-Indexed the dataframe with `Ticker` as first and `Date` as second index. "
   ]
  },
  {
   "cell_type": "code",
   "execution_count": 290,
   "id": "06153e3d",
   "metadata": {},
   "outputs": [],
   "source": [
    "df.set_index(['Ticker', 'Date'], inplace=True)\n",
    "# print(df.index.get_level_values('Date').dtype)"
   ]
  },
  {
   "cell_type": "markdown",
   "id": "db4e826d",
   "metadata": {},
   "source": [
    "## STEP 2\n",
    "Looking for rows having NaN values"
   ]
  },
  {
   "cell_type": "code",
   "execution_count": 291,
   "id": "e5338cb2",
   "metadata": {},
   "outputs": [],
   "source": [
    "missing_rows=[]\n",
    "\n",
    "for index, row in df.iterrows():\n",
    "    ticker=index[0]\n",
    "    date=index[1]\n",
    "    if row.isnull().any():\n",
    "        missing_rows.append()\n",
    "# print(missing_rows)"
   ]
  },
  {
   "cell_type": "markdown",
   "id": "6d75edc6",
   "metadata": {},
   "source": [
    "Conclusion - There are no missing values in the dataframe."
   ]
  },
  {
   "cell_type": "markdown",
   "id": "b10d4f06",
   "metadata": {},
   "source": [
    "## Sorting the data\n",
    "For each Ticker the rows are sorted in ascending order of the dates."
   ]
  },
  {
   "cell_type": "code",
   "execution_count": 292,
   "id": "12ac6aff",
   "metadata": {},
   "outputs": [
    {
     "data": {
      "text/html": [
       "<div>\n",
       "<style scoped>\n",
       "    .dataframe tbody tr th:only-of-type {\n",
       "        vertical-align: middle;\n",
       "    }\n",
       "\n",
       "    .dataframe tbody tr th {\n",
       "        vertical-align: top;\n",
       "    }\n",
       "\n",
       "    .dataframe thead th {\n",
       "        text-align: right;\n",
       "    }\n",
       "</style>\n",
       "<table border=\"1\" class=\"dataframe\">\n",
       "  <thead>\n",
       "    <tr style=\"text-align: right;\">\n",
       "      <th></th>\n",
       "      <th></th>\n",
       "      <th>Open</th>\n",
       "      <th>High</th>\n",
       "      <th>Low</th>\n",
       "      <th>Close</th>\n",
       "      <th>Volume</th>\n",
       "      <th>OpenInt</th>\n",
       "    </tr>\n",
       "    <tr>\n",
       "      <th>Ticker</th>\n",
       "      <th>Date</th>\n",
       "      <th></th>\n",
       "      <th></th>\n",
       "      <th></th>\n",
       "      <th></th>\n",
       "      <th></th>\n",
       "      <th></th>\n",
       "    </tr>\n",
       "  </thead>\n",
       "  <tbody>\n",
       "    <tr>\n",
       "      <th rowspan=\"5\" valign=\"top\">AAPL</th>\n",
       "      <th>1984-09-07</th>\n",
       "      <td>0.42388</td>\n",
       "      <td>0.42902</td>\n",
       "      <td>0.41874</td>\n",
       "      <td>0.42388</td>\n",
       "      <td>23220030</td>\n",
       "      <td>0</td>\n",
       "    </tr>\n",
       "    <tr>\n",
       "      <th>1984-09-10</th>\n",
       "      <td>0.42388</td>\n",
       "      <td>0.42516</td>\n",
       "      <td>0.41366</td>\n",
       "      <td>0.42134</td>\n",
       "      <td>18022532</td>\n",
       "      <td>0</td>\n",
       "    </tr>\n",
       "    <tr>\n",
       "      <th>1984-09-11</th>\n",
       "      <td>0.42516</td>\n",
       "      <td>0.43668</td>\n",
       "      <td>0.42516</td>\n",
       "      <td>0.42902</td>\n",
       "      <td>42498199</td>\n",
       "      <td>0</td>\n",
       "    </tr>\n",
       "    <tr>\n",
       "      <th>1984-09-12</th>\n",
       "      <td>0.42902</td>\n",
       "      <td>0.43157</td>\n",
       "      <td>0.41618</td>\n",
       "      <td>0.41618</td>\n",
       "      <td>37125801</td>\n",
       "      <td>0</td>\n",
       "    </tr>\n",
       "    <tr>\n",
       "      <th>1984-09-13</th>\n",
       "      <td>0.43927</td>\n",
       "      <td>0.44052</td>\n",
       "      <td>0.43927</td>\n",
       "      <td>0.43927</td>\n",
       "      <td>57822062</td>\n",
       "      <td>0</td>\n",
       "    </tr>\n",
       "    <tr>\n",
       "      <th>...</th>\n",
       "      <th>...</th>\n",
       "      <td>...</td>\n",
       "      <td>...</td>\n",
       "      <td>...</td>\n",
       "      <td>...</td>\n",
       "      <td>...</td>\n",
       "      <td>...</td>\n",
       "    </tr>\n",
       "    <tr>\n",
       "      <th rowspan=\"5\" valign=\"top\">TSLA</th>\n",
       "      <th>2017-11-06</th>\n",
       "      <td>307.00000</td>\n",
       "      <td>307.50000</td>\n",
       "      <td>299.01000</td>\n",
       "      <td>302.78000</td>\n",
       "      <td>6482486</td>\n",
       "      <td>0</td>\n",
       "    </tr>\n",
       "    <tr>\n",
       "      <th>2017-11-07</th>\n",
       "      <td>301.02000</td>\n",
       "      <td>306.50000</td>\n",
       "      <td>300.03000</td>\n",
       "      <td>306.05000</td>\n",
       "      <td>5286320</td>\n",
       "      <td>0</td>\n",
       "    </tr>\n",
       "    <tr>\n",
       "      <th>2017-11-08</th>\n",
       "      <td>305.50000</td>\n",
       "      <td>306.89000</td>\n",
       "      <td>301.30000</td>\n",
       "      <td>304.31000</td>\n",
       "      <td>4725510</td>\n",
       "      <td>0</td>\n",
       "    </tr>\n",
       "    <tr>\n",
       "      <th>2017-11-09</th>\n",
       "      <td>302.50000</td>\n",
       "      <td>304.46000</td>\n",
       "      <td>296.30000</td>\n",
       "      <td>302.99000</td>\n",
       "      <td>5440335</td>\n",
       "      <td>0</td>\n",
       "    </tr>\n",
       "    <tr>\n",
       "      <th>2017-11-10</th>\n",
       "      <td>302.50000</td>\n",
       "      <td>308.36000</td>\n",
       "      <td>301.85000</td>\n",
       "      <td>302.99000</td>\n",
       "      <td>4621912</td>\n",
       "      <td>0</td>\n",
       "    </tr>\n",
       "  </tbody>\n",
       "</table>\n",
       "<p>26691 rows × 6 columns</p>\n",
       "</div>"
      ],
      "text/plain": [
       "                        Open       High        Low      Close    Volume  \\\n",
       "Ticker Date                                                               \n",
       "AAPL   1984-09-07    0.42388    0.42902    0.41874    0.42388  23220030   \n",
       "       1984-09-10    0.42388    0.42516    0.41366    0.42134  18022532   \n",
       "       1984-09-11    0.42516    0.43668    0.42516    0.42902  42498199   \n",
       "       1984-09-12    0.42902    0.43157    0.41618    0.41618  37125801   \n",
       "       1984-09-13    0.43927    0.44052    0.43927    0.43927  57822062   \n",
       "...                      ...        ...        ...        ...       ...   \n",
       "TSLA   2017-11-06  307.00000  307.50000  299.01000  302.78000   6482486   \n",
       "       2017-11-07  301.02000  306.50000  300.03000  306.05000   5286320   \n",
       "       2017-11-08  305.50000  306.89000  301.30000  304.31000   4725510   \n",
       "       2017-11-09  302.50000  304.46000  296.30000  302.99000   5440335   \n",
       "       2017-11-10  302.50000  308.36000  301.85000  302.99000   4621912   \n",
       "\n",
       "                   OpenInt  \n",
       "Ticker Date                 \n",
       "AAPL   1984-09-07        0  \n",
       "       1984-09-10        0  \n",
       "       1984-09-11        0  \n",
       "       1984-09-12        0  \n",
       "       1984-09-13        0  \n",
       "...                    ...  \n",
       "TSLA   2017-11-06        0  \n",
       "       2017-11-07        0  \n",
       "       2017-11-08        0  \n",
       "       2017-11-09        0  \n",
       "       2017-11-10        0  \n",
       "\n",
       "[26691 rows x 6 columns]"
      ]
     },
     "execution_count": 292,
     "metadata": {},
     "output_type": "execute_result"
    }
   ],
   "source": [
    "df.sort_index(level=['Ticker','Date'])"
   ]
  },
  {
   "cell_type": "markdown",
   "id": "441a0440",
   "metadata": {},
   "source": [
    "## Filtering the data\n",
    "The date nearest to last 10 years was found and then the df was sliced there to remove older dates from each Ticker."
   ]
  },
  {
   "cell_type": "code",
   "execution_count": 293,
   "id": "1dc1f58d",
   "metadata": {},
   "outputs": [],
   "source": [
    "# df.loc[('GOOGL','2017-11-09')]\n",
    "#df = df[df.index.get_level_values(1) >= '2007-11-09']"
   ]
  },
  {
   "cell_type": "markdown",
   "id": "c2072788",
   "metadata": {},
   "source": [
    "## STEP 3\n",
    "Adding the columns"
   ]
  },
  {
   "cell_type": "code",
   "execution_count": 294,
   "id": "8b214a73",
   "metadata": {},
   "outputs": [],
   "source": [
    "df['Daily Return']=0.0\n",
    "df['7-day Moving Average']=0.0\n",
    "df['30-day Moving Average']=0.0\n",
    "df['Rolling Volatility (30d)']=0.0\n",
    "\n",
    "for i in range(1,len(df)):\n",
    "    current_closing = df.iloc[i,3]\n",
    "    previous_closing = df.iloc[i-1,3]\n",
    "    percentage_change= ((current_closing-previous_closing)/previous_closing)*100\n",
    "    df.iloc[i,6]=percentage_change\n",
    "    if (i>=6):\n",
    "        av_closing_7=0\n",
    "        for j in range(6):\n",
    "            av_closing_7+=df.iloc[i-j,3]\n",
    "        av_closing_7 /= 7\n",
    "        df.iloc[i,7]=av_closing_7\n",
    "    if (i>=29):\n",
    "        av_closing_30=0\n",
    "        stand_dev=0\n",
    "        for j in range(29):\n",
    "            av_closing_30+=df.iloc[i-j,3]\n",
    "        av_closing_30 /= 30\n",
    "        df.iloc[i,8]=av_closing_30\n",
    "        for j in range(29):\n",
    "            stand_dev+=abs(df.iloc[i-j,3]-av_closing_30)\n",
    "        stand_dev /= 30\n",
    "        df.iloc[i,9]=stand_dev\n"
   ]
  },
  {
   "cell_type": "markdown",
   "id": "a17ed11b",
   "metadata": {},
   "source": [
    "**Note: I added the columns and filled them with the corresponding data before filtering for newly added columns, without losing older (datewise) rows. Otherwise they would have had NaN values for some number of first rows due to moving average.**"
   ]
  },
  {
   "cell_type": "code",
   "execution_count": null,
   "id": "eb1027e7",
   "metadata": {},
   "outputs": [
    {
     "name": "stdout",
     "output_type": "stream",
     "text": [
      "11938\n"
     ]
    }
   ],
   "source": [
    "df = df[df.index.get_level_values(1) >= '2007-11-09']"
   ]
  },
  {
   "cell_type": "markdown",
   "id": "b293761d",
   "metadata": {},
   "source": [
    "## STEP 4\n",
    "The company with highest average return is `TSLA`. The highest average return is around 0.17%.\n"
   ]
  },
  {
   "cell_type": "code",
   "execution_count": 305,
   "id": "e3ae0cea",
   "metadata": {},
   "outputs": [],
   "source": [
    "average_returns=[]\n",
    "for company_name in company_name_list:\n",
    "    average_returns.append((df.loc[company_name]['Daily Return'].sum())/len(df.loc[company_name]))\n",
    "# print(company_name_list[average_returns.index(max(average_returns))])\n",
    "# print(max(average_returns))"
   ]
  },
  {
   "cell_type": "markdown",
   "id": "48bece43",
   "metadata": {},
   "source": [
    "The company with highest monthly (30d) volatility is `GOOGl` on `2015-08-07`. The highest volatility is around `56.65`."
   ]
  },
  {
   "cell_type": "code",
   "execution_count": 309,
   "id": "27163fbb",
   "metadata": {},
   "outputs": [
    {
     "name": "stdout",
     "output_type": "stream",
     "text": [
      "2015-08-07 00:00:00\n"
     ]
    }
   ],
   "source": [
    "max_volatility=df['Rolling Volatility (30d)'].max()\n",
    "max_idx=df['Rolling Volatility (30d)'].idxmax()\n",
    "# print(max_idx[0])\n",
    "print(max_idx[1])"
   ]
  }
 ],
 "metadata": {
  "kernelspec": {
   "display_name": "Python 3",
   "language": "python",
   "name": "python3"
  },
  "language_info": {
   "codemirror_mode": {
    "name": "ipython",
    "version": 3
   },
   "file_extension": ".py",
   "mimetype": "text/x-python",
   "name": "python",
   "nbconvert_exporter": "python",
   "pygments_lexer": "ipython3",
   "version": "3.9.6"
  }
 },
 "nbformat": 4,
 "nbformat_minor": 5
}
